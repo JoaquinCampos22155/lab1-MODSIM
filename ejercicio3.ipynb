{
 "cells": [
  {
   "cell_type": "markdown",
   "id": "94a1a38a",
   "metadata": {},
   "source": [
    "# Ejercicio 3  Métodos numéricos y aplicaciones en el mundo real"
   ]
  },
  {
   "cell_type": "markdown",
   "id": "e50e21fb",
   "metadata": {},
   "source": [
    "## Teoría\n"
   ]
  },
  {
   "cell_type": "markdown",
   "id": "4daa11c0",
   "metadata": {},
   "source": [
    "#### 1. a. Compare críticamente: Método de Euler vs. Runge-Kutta para la integración"
   ]
  },
  {
   "cell_type": "markdown",
   "id": "5ccc71a4",
   "metadata": {},
   "source": [
    "\n",
    "Método de Euler: \n",
    "Para la integración tenemos primeritas diferencias la mas rapida de identificar es como el método de Euler es de primer orden. \n",
    "\n",
    "Por otro lado este método puede llegar a ser inestable porque es necesario reducir considerablemente el tamaño del paso (h) (Akinsola, 2023) de manera que incrementa el numero de iteraciones y entonces el esfuerzo computacional. \n",
    "\n",
    "Runge-Kutta: \n",
    "En el caso de Runge-Kutta este es de orden 4 orden superior lo que por definicion le da mayor estabilidad, incluso con tamaños de paso grandes. \n",
    "\n",
    "Este usa una combinación ponderada de 4 evaluacions de la derivada por paso, capturando el comportamiento de la funcion. \n",
    "\n",
    "Diferencias: \n",
    "\n",
    "- Orden del método: El método de Euler tiene orden 1 y el de Runge-Kutta orden 4\n",
    "\n",
    "- Estabilidad: El de Euler tiene estabilidad limitada al tamaño de paso y Runge-Kutta es más estable.\n",
    "\n",
    "- Precisión: Euler tiene una precisoón muy baja considerando que h no sea muy pequeño, Runge-Kutta tiene precisión alta aún con pasos moderados.\n",
    "\n",
    "- Coste: Euler es bajo por paso, Runge-Kutta es mayor por paso aunque se necesiten menos pasos."
   ]
  },
  {
   "cell_type": "markdown",
   "id": "1aa7b6fe",
   "metadata": {},
   "source": [
    "#### 1. b. Compensación entre precisión y coste computacional."
   ]
  },
  {
   "cell_type": "markdown",
   "id": "c4475780",
   "metadata": {},
   "source": [
    "Considerando la precisión y coste, el método de Euler tiene bajo coste computacional nuevamente porque solo realiza una evaluacion de la función por cada iteración, pero su precisión es bajo dependiendo del sistema, entonces para compensar nuevamente se necesita usar un tamaño h pequeño aumentando las iteraciones y el tiempo total de calculo.\n",
    "\n",
    "Por otro lado, el Runge-Kutta tiene alta precisión por paso entocnes tiende a pesar mas computacionalmente se podría definir que un 4 pero al ser ucho mas preciso, y reduce el numero de procesos."
   ]
  },
  {
   "cell_type": "markdown",
   "id": "75692db9",
   "metadata": {},
   "source": [
    "#### Explique cómo los retrasos en los ciclos de retroalimentación (p. ej., el retraso en las pruebas durante (epidemias) afectan el comportamiento del sistema."
   ]
  },
  {
   "cell_type": "markdown",
   "id": "0d7f5363",
   "metadata": {},
   "source": [
    "El retraso pasa cuando la información o la acción correctiva llega con cierto desfase respecto al momento en que el problema ocurre. Entonces en la epidemia el retraso seria que los resultados de las vacunas que se atrasan aunque exista la posibilidad que en efecto sesa contagiado y esete infectando gente.\n",
    "\n",
    "Entonces estas pueden dar respuestas imprecisas, y poco oportunas entonces puede causar caos"
   ]
  },
  {
   "cell_type": "markdown",
   "id": "3b34956e",
   "metadata": {},
   "source": [
    "### Proponga un modelo de stock-flujo para capacidad hospitalaria durante una epidemia."
   ]
  },
  {
   "cell_type": "markdown",
   "id": "8d008837",
   "metadata": {},
   "source": [
    "Stocks: \n",
    "\n",
    "- Pacientes\n",
    "- Capacidad de camas disponibles\n",
    "- Pacientes en UCI\n",
    "- Camas UCI disponibles\n",
    "\n",
    "Flujos: \n",
    "\n",
    "- Ingresos de pacientes\n",
    "- Ingresos a UCI\n",
    "- Recuperados\n",
    "- Recuperados UCI\n",
    "- Transferencia de hospital a UCI\n",
    "- Muerte\n",
    "- Expansión o reducción de camas\n",
    "- Expansión o reducción de camas UCI\n",
    "\n",
    "Variables: \n",
    "- Tasa de infección\n",
    "- tasa_infección: proporción de infectados que necesitan hospitalización\n",
    "- duración promedio\n",
    "- duración promedio UCI \n",
    "- tasa de mortalidad\n",
    "- tasa de mortalidad UCI\n",
    "- Retraso en expansión hospitalaria\n",
    "- Retraso en expansión hospitalaria UCI \n",
    "\n",
    "ECUACIONES:\n",
    "\n",
    "Ingresos de pacientes: tasa_infección * infectados\n",
    "\n",
    "Recuperados: pacientes/duracion promedio\n",
    "\n",
    "Muerte hospitalario: pacientes * tasa de mortalidad\n",
    "\n",
    "Pacientes hospitalizados = integral(ingresos de pacientes - recueperados - muerte)dt\n",
    "\n",
    "Camas_UCI_disponibles(t) = Camas_UCI_iniciales \n",
    "                         + ∫ (adición_UCI - ocupación_UCI + altas_UCI + fallecidos_UCI) dt\n",
    "\n",
    "Pacientes_UCI(t) = ∫ (ingreso_UCI + transferencia_a_UCI - alta_UCI - muerte_UCI) dt\n",
    "\n",
    "Pedido a Inteligencia: \"generame las ecuaciones para el siguiente modelo\""
   ]
  },
  {
   "cell_type": "markdown",
   "id": "99b30cb5",
   "metadata": {},
   "source": [
    "### Para el Método de Euler\n",
    "a. Indique cómo se define el error local de truncamiento\n",
    "\n",
    "se define como la diferencia entre la solución exacta de la ecuación diferencial y la aproximación dada por una sola iteración del método.\n",
    "\n",
    "\n",
    "b. Enumere dos ventajas y desventajas del método\n",
    "\n",
    "Ventajas:\n",
    "\n",
    "1. Simplicidad\n",
    "2. Costo bajo por paso: Solo requiere una evaluación de la función f(x,y) por iteración.\n",
    "\n",
    "Desventajas: \n",
    "\n",
    "1. Baja precisión: al ser primer orden, se requiere un paso muy pequeño para obtener resultados aceptables.\n",
    "\n",
    "2. Inestabilidad no lineales: Puede producir resultados inestables.\n",
    "\n",
    "c. Explique el algoritmo\n",
    "\n",
    "Se basa en la definición de derivada como razón de cambio y utiliza una pendiente constante entre dos puntos consecutivos. Se basa en 3 pasos: Datos iniciales siendo funcion derivada, condicion inicial paso h numero de pasos, iteración y el resultado obteniendo una secuencia de putnso que aproximan la solución de la EDO. "
   ]
  },
  {
   "cell_type": "markdown",
   "id": "2a10c1f4",
   "metadata": {},
   "source": [
    "### Para el método de Runge-Kutta (RK4):\n",
    "a. Explique el algoritmo y principalmente los cuatro pasos intermedios\n",
    "\n",
    "es un método numérico de un solo paso, pero de cuarto orden de precisión\n",
    "\n",
    "algoritmo: \n",
    "\n",
    "Primer paso intermedio (pendiente inicial), \n",
    "\n",
    "k1 = h * f(x_n, y_n)\n",
    "\n",
    "Segundo paso intermedio (pendiente en el punto medio usando k1), \n",
    "\n",
    "k2 = h * f(x_n + h/2, y_n + k1/2)\n",
    "\n",
    "Tercer paso intermedio (otra pendiente en el punto medio usando k2), \n",
    "\n",
    "k3 = h * f(x_n + h/2, y_n + k2/2)\n",
    "\n",
    "Cuarto paso intermedio (pendiente al final del paso)\n",
    "\n",
    "k4 = h * f(x_n + h, y_n + k3)\n",
    "\n",
    "Fórmula para actualizar y: \n",
    "\n",
    "y_{n+1} = y_n + (1/6) * (k1 + 2*k2 + 2*k3 + k4)\n",
    "\n",
    "\n",
    "\n",
    "b. Compare el error global con el de Euler\n",
    "\n",
    "Euler error local: O(h^2), Euler error global: O(h)\n",
    "\n",
    "RK4 Error local: O(h^5), RK4 error global: O(h^4)\n",
    "\n",
    "El error global de RK4 decrece mucho más rápidamente con el tamaño de paso que el de Euler.\n",
    "\n",
    "c. ¿Cuándo vale la pena utilizar RK4 considerando el costo computacional?\n",
    "\n",
    "- Se requiere alta precisión sin reducir drásticamente el tamaño del paso.\n",
    "\n",
    "- La función es no lineal o tiene comportamientos complejos, como en sistemas dinámicos tipo Lorenz.\n",
    "\n",
    "- El modelo tiene un horizonte largo de simulación, y el acumulamiento de error con Euler sería crítico.\n",
    "\n",
    "- El sistema no es extremadamente rígido, porque RK4 no es el mejor para problemas rígidos (en esos casos se usan métodos implícitos)."
   ]
  },
  {
   "cell_type": "markdown",
   "id": "c29a129b",
   "metadata": {},
   "source": []
  },
  {
   "cell_type": "markdown",
   "id": "503997ff",
   "metadata": {},
   "source": []
  },
  {
   "cell_type": "markdown",
   "id": "4e44908f",
   "metadata": {},
   "source": [
    "# Referencias\n",
    "\n",
    "Akinsola, V. (2023). Numerical Methods: Euler and Runge-Kutta. En IntechOpen eBooks. https://doi.org/10.5772/intechopen.108533 "
   ]
  },
  {
   "cell_type": "markdown",
   "id": "764760ba",
   "metadata": {},
   "source": []
  }
 ],
 "metadata": {
  "language_info": {
   "name": "python"
  }
 },
 "nbformat": 4,
 "nbformat_minor": 5
}
